{
    "cells": [
        {
            "attachments": {},
            "cell_type": "markdown",
            "id": "ac622319",
            "metadata": {},
            "source": [
                "# Descriptive Statistics Problems"
            ]
        },
        {
            "attachments": {},
            "cell_type": "markdown",
            "id": "aa8993e4",
            "metadata": {},
            "source": [
                "### Exercise 1"
            ]
        },
        {
            "attachments": {},
            "cell_type": "markdown",
            "id": "5e0ab0d5",
            "metadata": {},
            "source": [
                "As right now, you are familliar with numpy, we are going to use numpy to get some data statistics.\n",
                "\n",
                "First, lets create an array of 20 elements distributed normally (Gaussian):\n",
                "\n",
                "Use the np.random.normal function to create some data, using 0,1,20 as parameters because we want a one dimentional array of 20 numbers distributed normally (Gaussian)"
            ]
        },
        {
            "cell_type": "code",
            "execution_count": 1,
            "id": "34720ab6",
            "metadata": {},
            "outputs": [
                {
                    "name": "stdout",
                    "output_type": "stream",
                    "text": [
                        "[ 1.76405235  0.40015721  0.97873798  2.2408932   1.86755799 -0.97727788\n",
                        "  0.95008842 -0.15135721 -0.10321885  0.4105985   0.14404357  1.45427351\n",
                        "  0.76103773  0.12167502  0.44386323  0.33367433  1.49407907 -0.20515826\n",
                        "  0.3130677  -0.85409574]\n"
                    ]
                }
            ],
            "source": [
                "#import libraries\n",
                "import numpy as np\n",
                "\n",
                "\n",
                "# Set seed in order to get similar results\n",
                "np.random.seed(0)\n",
                "\n",
                "\n",
                "# create the data\n",
                "data = np.random.normal(0, 1, 20)\n",
                "\n",
                "\n",
                "#print results\n",
                "print(data)\n"
            ]
        },
        {
            "cell_type": "code",
            "execution_count": 2,
            "id": "49c55822",
            "metadata": {},
            "outputs": [
                {
                    "data": {
                        "text/plain": [
                            "0.5693345929456347"
                        ]
                    },
                    "execution_count": 2,
                    "metadata": {},
                    "output_type": "execute_result"
                }
            ],
            "source": [
                "#Use numpy to get the mean of your data\n",
                "np.mean(data)"
            ]
        },
        {
            "cell_type": "code",
            "execution_count": 3,
            "id": "03529459",
            "metadata": {},
            "outputs": [
                {
                    "data": {
                        "text/plain": [
                            "0.7228107940950779"
                        ]
                    },
                    "execution_count": 3,
                    "metadata": {},
                    "output_type": "execute_result"
                }
            ],
            "source": [
                "#get the variance of your data\n",
                "data.var()"
            ]
        },
        {
            "cell_type": "code",
            "execution_count": 4,
            "id": "e53f30c5",
            "metadata": {},
            "outputs": [
                {
                    "data": {
                        "text/plain": [
                            "0.8501828003994658"
                        ]
                    },
                    "execution_count": 4,
                    "metadata": {},
                    "output_type": "execute_result"
                }
            ],
            "source": [
                "# Standard deviation\n",
                "np.std(data)"
            ]
        },
        {
            "cell_type": "code",
            "execution_count": 33,
            "id": "9bce852f",
            "metadata": {},
            "outputs": [
                {
                    "name": "stdout",
                    "output_type": "stream",
                    "text": [
                        "Mode: ModeResult(mode=array([-1.7262826]), count=array([1]))\n"
                    ]
                },
                {
                    "name": "stderr",
                    "output_type": "stream",
                    "text": [
                        "/tmp/ipykernel_680/837115706.py:9: FutureWarning: Unlike other reduction functions (e.g. `skew`, `kurtosis`), the default behavior of `mode` typically preserves the axis it acts along. In SciPy 1.11.0, this behavior will change: the default value of `keepdims` will become False, the `axis` over which the statistic is taken will be eliminated, and the value None will no longer be accepted. Set `keepdims` to True or False to avoid this warning.\n",
                        "  mode_result = stats.mode(data)\n"
                    ]
                }
            ],
            "source": [
                "#import libraries and print the mode\n",
                "from scipy import stats\n",
                "import numpy as np\n",
                "\n",
                "\n",
                "# Mode for continuous array\n",
                "data = np.random.normal(0, 1, 20)\n",
                "\n",
                "mode_result = stats.mode(data)\n",
                "\n",
                "\n",
                "print(\"Mode:\", mode_result)"
            ]
        },
        {
            "cell_type": "code",
            "execution_count": 34,
            "id": "c682cb6e",
            "metadata": {},
            "outputs": [
                {
                    "name": "stdout",
                    "output_type": "stream",
                    "text": [
                        "Mediana: -0.3806670488744016\n"
                    ]
                }
            ],
            "source": [
                "# Median\n",
                "mediana = np.median(data)\n",
                "\n",
                "# Imprimir la mediana\n",
                "print(\"Mediana:\", mediana)\n"
            ]
        },
        {
            "cell_type": "code",
            "execution_count": 35,
            "id": "39c3fabd",
            "metadata": {},
            "outputs": [
                {
                    "name": "stdout",
                    "output_type": "stream",
                    "text": [
                        "Percentil de 25 (Q1): -0.827558998828811\n",
                        "Percentil de 50 (Median): -0.3806670488744016\n",
                        "Percentil de 75 (Q3): 0.14109371863149622\n",
                        "Rango intercuartil (IQR): 0.9686527174603072\n"
                    ]
                }
            ],
            "source": [
                "# Print the percentiles\n",
                "percentil = np.percentile(data, [25, 50, 75])\n",
                "\n",
                "# Print the quantiles\n",
                "print(\"Percentil de 25 (Q1):\", percentil[0])\n",
                "print(\"Percentil de 50 (Median):\", percentil[1])\n",
                "print(\"Percentil de 75 (Q3):\", percentil[2])\n",
                "print(\"Rango intercuartil (IQR):\", percentil[2] - percentil[0])\n",
                "\n",
                "\n",
                "# This match with np.median, why?\n",
                "#np.median y np.percentile son parecidos porque ambos separan el data set en dos mitades."
            ]
        },
        {
            "attachments": {},
            "cell_type": "markdown",
            "id": "46c70c3d",
            "metadata": {},
            "source": [
                "### Exercise 2\n",
                "\n",
                "Write a Python program to calculate the standard deviation of the following data:\n",
                "```py\n",
                "data = [4, 2, 5, 8, 6]\n",
                "```"
            ]
        },
        {
            "cell_type": "code",
            "execution_count": 51,
            "id": "d590308e",
            "metadata": {},
            "outputs": [
                {
                    "name": "stdout",
                    "output_type": "stream",
                    "text": [
                        "Datos: [4, 2, 5, 8, 6]\n",
                        "Desviación estándar: 2.0\n"
                    ]
                }
            ],
            "source": [
                "\n",
                "\n",
                "import sys\n",
                "import math\n",
                "\n",
                "# Define the standard deviation function\n",
                "def sd_calc(data):\n",
                "    # Calcular la media utilizando la función np.mean()\n",
                "    mean = np.mean(data)\n",
                "    \n",
                "    # Calcular la suma de los cuadrados de las diferencias con la media\n",
                "    sum_of_squares = sum((x - mean) ** 2 for x in data)\n",
                "    \n",
                "    # Calcular la varianza dividiendo la suma de los cuadrados entre el número de elementos\n",
                "    variance = sum_of_squares / len(data)\n",
                "    \n",
                "    # Calcular la desviación estándar tomando la raíz cuadrada de la varianza\n",
                "    std_deviation = math.sqrt(variance)\n",
                "    \n",
                "    return std_deviation\n",
                "\n",
                "# Define the average function\n",
                "def avg_calc(ls):\n",
                "    # Calcular la suma de los elementos\n",
                "    total = sum(ls)\n",
                "    \n",
                "    # Calcular la cantidad de elementos\n",
                "    count = len(ls)\n",
                "    \n",
                "    # Calcular el promedio\n",
                "    average = total / count\n",
                "    \n",
                "    return average\n",
                "    \n",
                "data = [4, 2, 5, 8, 6]\n",
                "\n",
                "# Imprimir los datos\n",
                "print(\"Datos:\", data)\n",
                "\n",
                "# Calcular la desviación estándar utilizando la función sd_calc()\n",
                "std_deviation = sd_calc(data)\n",
                "\n",
                "# Imprimir la desviación estándar\n",
                "print(\"Desviación estándar:\", std_deviation)"
            ]
        },
        {
            "attachments": {},
            "cell_type": "markdown",
            "id": "04b71791",
            "metadata": {},
            "source": [
                "Source:\n",
                "\n",
                "https://www.w3resource.com/"
            ]
        }
    ],
    "metadata": {
        "interpreter": {
            "hash": "9248718ffe6ce6938b217e69dbcc175ea21f4c6b28a317e96c05334edae734bb"
        },
        "kernelspec": {
            "display_name": "Python 3.9.12 ('ML-BOOTCAMP')",
            "language": "python",
            "name": "python3"
        },
        "language_info": {
            "codemirror_mode": {
                "name": "ipython",
                "version": 3
            },
            "file_extension": ".py",
            "mimetype": "text/x-python",
            "name": "python",
            "nbconvert_exporter": "python",
            "pygments_lexer": "ipython3",
            "version": "3.11.3"
        }
    },
    "nbformat": 4,
    "nbformat_minor": 5
}
