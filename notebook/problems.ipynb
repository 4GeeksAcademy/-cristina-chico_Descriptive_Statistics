{
    "cells": [
        {
            "cell_type": "markdown",
            "id": "ac622319",
            "metadata": {},
            "source": [
                "# Descriptive Statistics Problems"
            ]
        },
        {
            "cell_type": "markdown",
            "id": "aa8993e4",
            "metadata": {},
            "source": [
                "### Exercise 1"
            ]
        },
        {
            "cell_type": "markdown",
            "id": "5e0ab0d5",
            "metadata": {},
            "source": [
                "As right now, you are familliar with numpy, we are going to use numpy to get some data statistics.\n",
                "\n",
                "First, lets create an array of 20 elements distributed normally (Gaussian):\n",
                "\n",
                "Use the np.random.normal function to create some data, using 0,1,20 as parameters because we want a one dimentional array of 20 numbers distributed normally (Gaussian)"
            ]
        },
        {
            "cell_type": "code",
            "execution_count": 1,
            "id": "34720ab6",
            "metadata": {},
            "outputs": [
                {
                    "name": "stdout",
                    "output_type": "stream",
                    "text": [
                        "The array elements distribute normally are:\n",
                        " [-2.42878499 -1.34216896 -0.1872267  -1.91076622  1.61142874 -0.39538096\n",
                        " -0.13866769  1.31755992  1.43755063  0.3461454  -0.3022814   0.8692907\n",
                        " -0.23959013  1.14812635 -0.65393263  0.87660662 -0.30258082 -0.31233049\n",
                        "  1.52497392  0.91100354]\n"
                    ]
                }
            ],
            "source": [
                "#import libraries\n",
                "import random\n",
                "import numpy as np\n",
                "\n",
                "# Set seed in order to get similar results\n",
                "random.seed(20)\n",
                "\n",
                "# create the data\n",
                "data = np.random.normal(0,1,20)\n",
                "\n",
                "#print results\n",
                "print(\"The array elements distribute normally are:\\n\",data)"
            ]
        },
        {
            "cell_type": "code",
            "execution_count": 2,
            "id": "49c55822",
            "metadata": {},
            "outputs": [
                {
                    "name": "stdout",
                    "output_type": "stream",
                    "text": [
                        "The mean of the data is:  0.0914487413075153\n"
                    ]
                }
            ],
            "source": [
                "#Use numpy to get the mean of your data\n",
                "print(\"The mean of the data is: \",data.mean())"
            ]
        },
        {
            "cell_type": "code",
            "execution_count": 3,
            "id": "03529459",
            "metadata": {},
            "outputs": [
                {
                    "name": "stdout",
                    "output_type": "stream",
                    "text": [
                        "The variation of the data is:  1.2338555658446149\n"
                    ]
                }
            ],
            "source": [
                "#get the variance of your data\n",
                "print(\"The variation of the data is: \",data.var())"
            ]
        },
        {
            "cell_type": "code",
            "execution_count": 4,
            "id": "e53f30c5",
            "metadata": {},
            "outputs": [
                {
                    "name": "stdout",
                    "output_type": "stream",
                    "text": [
                        "The standard deviation of the data is:  1.1107905139334846\n"
                    ]
                }
            ],
            "source": [
                "# Standard deviation\n",
                "print(\"The standard deviation of the data is: \",data.std())"
            ]
        },
        {
            "cell_type": "code",
            "execution_count": 5,
            "id": "9bce852f",
            "metadata": {},
            "outputs": [
                {
                    "name": "stdout",
                    "output_type": "stream",
                    "text": [
                        "The data mode is:  -2.428784987925977\n"
                    ]
                }
            ],
            "source": [
                "#import libraries and print the mode\n",
                "import statistics\n",
                "\n",
                "# Mode for continuous array\n",
                "data_mode = statistics.mode(data)\n",
                "print(\"The data mode is: \",data_mode)"
            ]
        },
        {
            "cell_type": "code",
            "execution_count": 6,
            "id": "c682cb6e",
            "metadata": {},
            "outputs": [
                {
                    "name": "stdout",
                    "output_type": "stream",
                    "text": [
                        "The data median is:  -0.16294719647810535\n"
                    ]
                }
            ],
            "source": [
                "# Median\n",
                "data_median = statistics.median(data)\n",
                "print(\"The data median is: \",data_median)"
            ]
        },
        {
            "cell_type": "code",
            "execution_count": 7,
            "id": "39c3fabd",
            "metadata": {},
            "outputs": [
                {
                    "name": "stdout",
                    "output_type": "stream",
                    "text": [
                        "The Quantiles of the data are:\n",
                        " [-0.374618339376134, -0.16294719647810535, 1.0888456458137472]\n",
                        "The median data is:  -0.16294719647810535\n",
                        "The median value match with the quantile match because, this value, represent the value tha we can find in the middle of the dataset\n"
                    ]
                }
            ],
            "source": [
                "# Print the Quantiles\n",
                "print(\"The Quantiles of the data are:\\n\",statistics.quantiles(data))\n",
                "\n",
                "# This match with np.median, why?\n",
                "print(\"The median data is: \",np.median(data))\n",
                "print(\"The median value match with the quantile match because, this value, represent the value tha we can find in the middle of the dataset\")"
            ]
        },
        {
            "cell_type": "markdown",
            "id": "46c70c3d",
            "metadata": {},
            "source": [
                "### Exercise 2\n",
                "\n",
                "Write a Python program to calculate the standard deviation of the following data:\n",
                "```py\n",
                "data = [4, 2, 5, 8, 6]\n",
                "```"
            ]
        },
        {
            "cell_type": "code",
            "execution_count": 11,
            "id": "d590308e",
            "metadata": {},
            "outputs": [
                {
                    "name": "stdout",
                    "output_type": "stream",
                    "text": [
                        "The data values are:\n",
                        " [4, 2, 5, 8, 6]\n",
                        "The Standard deviation is:  2.0\n"
                    ]
                }
            ],
            "source": [
                "import math\n",
                "import sys\n",
                "\n",
                "# Define the standard deviation function\n",
                "\n",
                "def sd_calc(data):\n",
                "    #code here\n",
                "    n = len(data)\n",
                "    if n<= 1:\n",
                "        return 0.0\n",
                "    \n",
                "    mean = avg_calc(data)\n",
                "    sd = 0\n",
                "    for x in data:\n",
                "        sd += (float(x) - mean)**2\n",
                "    # calculate stan. dev.\n",
                "    sd = math.sqrt(sd / float(n))\n",
                "    return sd\n",
                "    \n",
                "\n",
                "\n",
                "\n",
                "\n",
                "# Define the average function\n",
                "\n",
                "def avg_calc(ls):\n",
                "    #code here\n",
                "    n = len(ls)\n",
                "    if n <= 1:\n",
                "        return ls[0]\n",
                "    \n",
                "    mean = 0\n",
                "    for x in ls:\n",
                "        mean += float(x)    \n",
                "    # calculate average\n",
                "    mean = mean / float(n)\n",
                "    return mean\n",
                "    \n",
                "    \n",
                "    \n",
                "\n",
                "data = [4, 2, 5, 8, 6]\n",
                "\n",
                "#print the data\n",
                "print(\"The data values are:\\n\",data)\n",
                "#print the standard deviation of the data\n",
                "print(\"The Standard deviation is: \",sd_calc(data))"
            ]
        },
        {
            "cell_type": "markdown",
            "id": "04b71791",
            "metadata": {},
            "source": [
                "Source:\n",
                "\n",
                "https://www.w3resource.com/"
            ]
        }
    ],
    "metadata": {
        "interpreter": {
            "hash": "9248718ffe6ce6938b217e69dbcc175ea21f4c6b28a317e96c05334edae734bb"
        },
        "kernelspec": {
            "display_name": "Python 3.9.12 ('ML-BOOTCAMP')",
            "language": "python",
            "name": "python3"
        },
        "language_info": {
            "codemirror_mode": {
                "name": "ipython",
                "version": 3
            },
            "file_extension": ".py",
            "mimetype": "text/x-python",
            "name": "python",
            "nbconvert_exporter": "python",
            "pygments_lexer": "ipython3",
            "version": "3.11.4"
        }
    },
    "nbformat": 4,
    "nbformat_minor": 5
}
