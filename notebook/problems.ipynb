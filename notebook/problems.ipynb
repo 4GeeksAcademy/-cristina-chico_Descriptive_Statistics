{
    "cells": [
        {
            "cell_type": "markdown",
            "id": "ac622319",
            "metadata": {},
            "source": [
                "# Descriptive statistics problems"
            ]
        },
        {
            "cell_type": "markdown",
            "id": "aa8993e4",
            "metadata": {},
            "source": [
                "### Exercise 1"
            ]
        },
        {
            "cell_type": "markdown",
            "id": "5e0ab0d5",
            "metadata": {},
            "source": [
                "We will use Numpy to obtain information to describe statistically.\n",
                "\n",
                "- Generate an array of 100 elements following a normal distribution.\n",
                "- Generate an array of 100 elements following a chi-square distribution with 3 degrees of freedom.\n",
                "- Calculate the main metrics and statistical measures that best describe the two vectors."
            ]
        },
        {
            "cell_type": "code",
            "execution_count": 1,
            "id": "34720ab6",
            "metadata": {},
            "outputs": [],
            "source": [
                "import random\n",
                "import numpy as np \n",
                "import pandas as pd "
            ]
        },
        {
            "cell_type": "code",
            "execution_count": 2,
            "id": "91d12879",
            "metadata": {},
            "outputs": [
                {
                    "name": "stdout",
                    "output_type": "stream",
                    "text": [
                        "Medidas descriptivas para el vector distribucion normal:\n",
                        "Media: -0.03458238138514917\n",
                        "Mediana: -0.04616025296912633\n",
                        "Desviación estándar: 0.9488806163110521\n",
                        "Varianza: 0.9003744240108422\n",
                        "Mínimo: -2.973795027022415\n",
                        "Máximo: 2.474189512581093\n",
                        "Suma: -3.458238138514917\n",
                        "Producto: 1.6608141916035078e-25\n",
                        "--------------------------------------------------------\n",
                        "Medidas descriptivas para el vector disctribucion chi-square:\n",
                        "Media: 3.0854474976629853\n",
                        "Mediana: 2.6378436865273964\n",
                        "Desviación estándar: 2.399469233350251\n",
                        "Varianza: 5.757452601794442\n",
                        "Mínimo: 0.07773560507927822\n",
                        "Máximo: 16.309911911269893\n",
                        "Suma: 308.54474976629854\n",
                        "Producto: 3.1442637769051035e+32\n"
                    ]
                }
            ],
            "source": [
                "numeros = np.random.normal(0,1,100)\n",
                "numeros_chi = np.random.chisquare(3,100)\n",
                "\n",
                "\n",
                "print(\"Medidas descriptivas para el vector distribucion normal:\")\n",
                "print(\"Media:\", np.mean(numeros))\n",
                "print(\"Mediana:\", np.median(numeros))\n",
                "print(\"Desviación estándar:\", np.std(numeros))\n",
                "print(\"Varianza:\", np.var(numeros))\n",
                "print(\"Mínimo:\", np.min(numeros))\n",
                "print(\"Máximo:\", np.max(numeros))\n",
                "print(\"Suma:\", np.sum(numeros))\n",
                "print(\"Producto:\", np.prod(numeros))\n",
                "\n",
                "print(\"--------------------------------------------------------\")\n",
                "\n",
                "print(\"Medidas descriptivas para el vector disctribucion chi-square:\")\n",
                "print(\"Media:\", np.mean(numeros_chi))\n",
                "print(\"Mediana:\", np.median(numeros_chi))\n",
                "print(\"Desviación estándar:\", np.std(numeros_chi))\n",
                "print(\"Varianza:\", np.var(numeros_chi))\n",
                "print(\"Mínimo:\", np.min(numeros_chi))\n",
                "print(\"Máximo:\", np.max(numeros_chi))\n",
                "print(\"Suma:\", np.sum(numeros_chi))\n",
                "print(\"Producto:\", np.prod(numeros_chi))\n",
                "\n",
                "\n",
                "\n"
            ]
        },
        {
            "cell_type": "markdown",
            "id": "46c70c3d",
            "metadata": {},
            "source": [
                "### Exercise 2\n",
                "\n",
                "Write a Python program to calculate the standard deviation of the following data:\n",
                "\n",
                "```py\n",
                "data = [4, 2, 5, 8, 6]\n",
                "```"
            ]
        },
        {
            "cell_type": "code",
            "execution_count": 3,
            "id": "d590308e",
            "metadata": {},
            "outputs": [
                {
                    "name": "stdout",
                    "output_type": "stream",
                    "text": [
                        "La desviación estandar es: 2.0\n"
                    ]
                }
            ],
            "source": [
                "data = [4, 2, 5, 8, 6]\n",
                "\n",
                "def desviacion(k):\n",
                "    media = sum(k) / len(k)\n",
                "    qadrado = sum((x-media) ** 2 for x in k)\n",
                "    desv = (qadrado / len(k)) ** 0.5\n",
                "    return desv\n",
                "\n",
                "print(f\"La desviación estandar es:\", desviacion(data))\n",
                "\n",
                "\n",
                "\n",
                "    "
            ]
        }
    ],
    "metadata": {
        "interpreter": {
            "hash": "9248718ffe6ce6938b217e69dbcc175ea21f4c6b28a317e96c05334edae734bb"
        },
        "kernelspec": {
            "display_name": "Python 3.9.12 ('ML-BOOTCAMP')",
            "language": "python",
            "name": "python3"
        },
        "language_info": {
            "codemirror_mode": {
                "name": "ipython",
                "version": 3
            },
            "file_extension": ".py",
            "mimetype": "text/x-python",
            "name": "python",
            "nbconvert_exporter": "python",
            "pygments_lexer": "ipython3",
            "version": "3.11.4"
        }
    },
    "nbformat": 4,
    "nbformat_minor": 5
}
