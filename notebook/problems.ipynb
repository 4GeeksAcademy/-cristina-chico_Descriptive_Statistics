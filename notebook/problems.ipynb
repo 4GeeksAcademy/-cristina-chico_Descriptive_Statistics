{
    "cells": [
        {
            "cell_type": "markdown",
            "id": "ac622319",
            "metadata": {},
            "source": [
                "# Descriptive statistics problems"
            ]
        },
        {
            "cell_type": "markdown",
            "id": "aa8993e4",
            "metadata": {},
            "source": [
                "### Exercise 1"
            ]
        },
        {
            "cell_type": "markdown",
            "id": "5e0ab0d5",
            "metadata": {},
            "source": [
                "We will use Numpy to obtain information to describe statistically.\n",
                "\n",
                "- Generate an array of 100 elements following a normal distribution.\n",
                "- Generate an array of 100 elements following a chi-square distribution with 3 degrees of freedom.\n",
                "- Calculate the main metrics and statistical measures that best describe the two vectors."
            ]
        },
        {
            "cell_type": "code",
            "execution_count": 2,
            "id": "34720ab6",
            "metadata": {},
            "outputs": [
                {
                    "name": "stdout",
                    "output_type": "stream",
                    "text": [
                        "Normal vector: [ 1.55133911  0.07918602  0.17397653 -0.07233657 -2.0043294   0.14467781\n",
                        " -1.50116862  0.21110945 -0.55820506  1.08452906 -0.18628912  0.01466137\n",
                        " -1.07556947  0.64225207 -0.18033671  0.62030025  0.81097433  0.77793587\n",
                        " -0.23748968 -1.89191235 -1.17212179  0.83620697  1.0092734   1.29309936\n",
                        " -0.54933117 -0.98171286  0.91467276  0.87307038  0.02211114 -0.00414358\n",
                        " -1.34912615 -0.20821785  1.32654029 -0.91626058 -0.47001315 -0.14944252\n",
                        " -0.32526012 -1.80572346 -0.50037019 -0.56478065 -0.31442857 -0.39667724\n",
                        "  0.00593311 -0.99713825  1.69109758 -0.31644087  1.46513442  1.46360133\n",
                        "  0.12891133 -1.17824286 -2.16650921 -1.52181288 -0.29288776  0.16048827\n",
                        " -0.78285103 -0.51740221  2.69656891  0.27520385 -1.2115925   0.58724273\n",
                        " -0.98183648 -2.43854975  0.13611748 -0.80758817  0.02008111  1.75986028\n",
                        "  0.05289752 -0.89981032  1.58844975 -2.17616164 -1.21721545  1.35446929\n",
                        "  1.47722741 -0.3262205  -0.78386877  0.25093104  0.23357219  0.07555501\n",
                        " -0.56786791 -1.39244738 -0.81624908 -0.51137639 -0.50980786 -0.77346088\n",
                        " -0.2485163  -1.90069201  0.79982019  1.27597389 -0.70099424 -1.47115075\n",
                        "  0.26118566  0.45850855 -0.20951675  0.93200405 -0.58697323 -1.1331135\n",
                        "  1.48476884 -0.51066281 -0.44821889 -2.32991332]\n",
                        "=======================================================\n",
                        "Chi-square vector: [ 1.58242711  1.20758508  2.7349973   0.60482696  3.71423513  2.15512179\n",
                        "  0.32758525  1.13445605  1.21840242  0.8093661   1.1196661   3.78279527\n",
                        "  2.21002571  8.48784417  0.79722508  1.00563183  1.21712591  2.68572285\n",
                        " 12.86810034  3.65372777  3.94356596 10.66473155  0.10899874  0.8149014\n",
                        "  2.58993473  3.69862565  1.83177575  0.35545017  8.69580556  4.12720757\n",
                        "  1.50085603  1.20854453  1.08696939  0.92543611  1.200884    3.02466238\n",
                        "  2.04437973  5.30745415  1.29157271  5.51172571  3.00514126  1.28375052\n",
                        "  1.10952275  1.57623279  1.8048229   6.10746959  0.02981859  0.30418948\n",
                        "  0.79443905  3.20402628  2.35868249  1.48549643  9.2821356   0.90545177\n",
                        "  0.76093177  3.71313399  2.06953146  6.10127059  1.57823651  4.09104292\n",
                        "  0.41329251  1.42861269  0.12455515  0.49636153  0.84468217  0.3889521\n",
                        "  2.67864699  1.66688944  0.76668008  2.19750678  3.28590905  2.76538058\n",
                        "  1.1436625   5.95679204  2.94766921  0.66513326  1.88458143  5.04518834\n",
                        "  1.36483431  3.31650165  2.32614275  2.40224651  0.40912105  0.84250064\n",
                        "  2.37381872  0.26973996  2.35925215  2.79676197  4.13205576  0.11385562\n",
                        "  3.09564557  1.94740821  1.1567556   0.28500138  3.20198183  2.6269357\n",
                        "  9.15430078  2.36271149  2.82393861  1.30615994]\n",
                        "=======================================================\n",
                        "Mean of Normal Vector: -0.17120816796607036\n",
                        "Mean of Chi-square Vector: 2.501838428148259\n",
                        "Median of Normal Vector: -0.22350321215624658\n",
                        "Median of Chi-square Vector: 1.8581785904626038\n",
                        "Mode of Normal Vector: 1.551339111253063\n",
                        "Mode of Chi-square Vector: 1.5824271055981216\n",
                        "Range of Normal Vector: 5.1351186517812195\n",
                        "Range of Chi-square Vector: 5.1351186517812195\n",
                        "Variance of Normal Vector: 1.0732308991515171\n",
                        "Variance of Chi-square Vector: 5.624705809288815\n",
                        "Standard deviation of Normal Vector: 1.0359685801951317\n",
                        "Standard deviation of Chi-square Vector: 2.3716462234677445\n",
                        "Skewness of Normal Vector: 0.11730451339315168\n",
                        "Skewness of Chi-square Vector: 2.050836518510122\n",
                        "Kurtosis of Normal Vector: -0.2279137798823485\n",
                        "Kurtosis of Chi-square Vector: 4.7404925669986415\n"
                    ]
                }
            ],
            "source": [
                "# TODO\n",
                "\n",
                "import numpy as np\n",
                "import statistics as stats\n",
                "from scipy.stats import skew\n",
                "from scipy.stats import kurtosis\n",
                "import matplotlib.pyplot as plt\n",
                "\n",
                "np.random.seed(14)\n",
                "\n",
                "# Generar los arrays\n",
                "normal_array = np.random.normal(size=100)\n",
                "chi_array = np.random.chisquare(3, 100)\n",
                "\n",
                "print(f\"Normal vector: {normal_array}\")\n",
                "\n",
                "print('=======================================================')\n",
                "\n",
                "\n",
                "print(f\"Chi-square vector: {chi_array}\")\n",
                "\n",
                "print('=======================================================')\n",
                "\n",
                "\n",
                "print(f\"Mean of Normal Vector: {stats.mean(normal_array)}\")\n",
                "print(f\"Mean of Chi-square Vector: {stats.mean(chi_array)}\")\n",
                "print(f\"Median of Normal Vector: {stats.median(normal_array)}\")\n",
                "print(f\"Median of Chi-square Vector: {stats.median(chi_array)}\")\n",
                "print(f\"Mode of Normal Vector: {stats.mode(normal_array)}\")\n",
                "print(f\"Mode of Chi-square Vector: {stats.mode(chi_array)}\")\n",
                "print(f\"Range of Normal Vector: {max(normal_array)-min(normal_array)}\")\n",
                "print(f\"Range of Chi-square Vector: {max(normal_array)-min(normal_array)}\")\n",
                "print(f\"Variance of Normal Vector: {stats.variance(normal_array)}\")\n",
                "print(f\"Variance of Chi-square Vector: {stats.variance(chi_array)}\")\n",
                "print(f\"Standard deviation of Normal Vector: {stats.stdev(normal_array)}\")\n",
                "print(f\"Standard deviation of Chi-square Vector: {stats.stdev(chi_array)}\")\n",
                "print(f\"Skewness of Normal Vector: {skew(normal_array)}\")\n",
                "print(f\"Skewness of Chi-square Vector: {skew(chi_array)}\")\n",
                "print(f\"Kurtosis of Normal Vector: {kurtosis(normal_array)}\")\n",
                "print(f\"Kurtosis of Chi-square Vector: {kurtosis(chi_array)}\")"
            ]
        },
        {
            "cell_type": "markdown",
            "id": "46c70c3d",
            "metadata": {},
            "source": [
                "### Exercise 2\n",
                "\n",
                "Write a Python program to calculate the standard deviation of the following data:\n",
                "\n",
                "```py\n",
                "data = [4, 2, 5, 8, 6]\n",
                "```"
            ]
        },
        {
            "cell_type": "code",
            "execution_count": 8,
            "id": "d590308e",
            "metadata": {},
            "outputs": [
                {
                    "name": "stdout",
                    "output_type": "stream",
                    "text": [
                        "Desviación estándar calculada con la función programada: 2.0\n",
                        "Desviación estándar calculada con NumPy: 2.0\n",
                        "Los resultados son iguales.\n"
                    ]
                }
            ],
            "source": [
                "# TODO\n",
                "\n",
                "import numpy as np\n",
                "\n",
                "# Datos proporcionados\n",
                "data = [4, 2, 5, 8, 6]\n",
                "\n",
                "# Función programada para calcular la desviación estándar\n",
                "def stddev(data):\n",
                "    mean = sum(data) / len(data)\n",
                "    variance = sum((x - mean) ** 2 for x in data) / len(data)\n",
                "    return variance ** 0.5\n",
                "\n",
                "# Calcular la desviación estándar usando la función programada\n",
                "stddev_programmed = stddev(data)\n",
                "\n",
                "# Calcular la desviación estándar usando la función de NumPy\n",
                "stddev_numpy = np.std(data)\n",
                "\n",
                "print(f\"Desviación estándar calculada con la función programada: {stddev_programmed}\")\n",
                "print(f\"Desviación estándar calculada con NumPy: {stddev_numpy}\")\n",
                "\n",
                "# Comparar los resultados\n",
                "if np.isclose(stddev_programmed, stddev_numpy):\n",
                "    print(\"Los resultados son iguales.\")\n",
                "else:\n",
                "    print(\"Los resultados son diferentes.\")"
            ]
        }
    ],
    "metadata": {
        "interpreter": {
            "hash": "9248718ffe6ce6938b217e69dbcc175ea21f4c6b28a317e96c05334edae734bb"
        },
        "kernelspec": {
            "display_name": "Python 3.9.12 ('ML-BOOTCAMP')",
            "language": "python",
            "name": "python3"
        },
        "language_info": {
            "codemirror_mode": {
                "name": "ipython",
                "version": 3
            },
            "file_extension": ".py",
            "mimetype": "text/x-python",
            "name": "python",
            "nbconvert_exporter": "python",
            "pygments_lexer": "ipython3",
            "version": "3.11.4"
        }
    },
    "nbformat": 4,
    "nbformat_minor": 5
}
