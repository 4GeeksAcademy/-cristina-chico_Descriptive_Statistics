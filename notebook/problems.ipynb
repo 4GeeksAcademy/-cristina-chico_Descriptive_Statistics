{
    "cells": [
        {
            "cell_type": "markdown",
            "id": "ac622319",
            "metadata": {},
            "source": [
                "# Descriptive statistics problems"
            ]
        },
        {
            "cell_type": "markdown",
            "id": "5e0ab0d5",
            "metadata": {},
            "source": [
                "### Exercise 1\n",
                "\n",
                "We will use NumPy to obtain information to describe statistically.\n",
                "\n",
                "- Generate an array of 100 elements following a normal distribution.\n",
                "- Generate an array of 100 elements following a chi-square distribution with 3 degrees of freedom.\n",
                "- Calculate the main metrics and statistical measures that best describe the two vectors."
            ]
        },
        {
            "cell_type": "code",
            "execution_count": 19,
            "id": "34720ab6",
            "metadata": {},
            "outputs": [
                {
                    "name": "stdout",
                    "output_type": "stream",
                    "text": [
                        "Distribucion Normal\n",
                        "Media: -0.0042\n",
                        "Mediana: 0.0204\n",
                        "Desviación estándar: 1.0014\n",
                        "Varianza: 1.0028\n",
                        "Mínimo: -2.5938\n",
                        "Máximo: 2.7605\n",
                        "None\n",
                        "\n",
                        "Distribucion Chi-Cuadrado\n",
                        "Media: 3.5563\n",
                        "Mediana: 2.8927\n",
                        "Desviación estándar: 2.5395\n",
                        "Varianza: 6.4492\n",
                        "Mínimo: 0.4556\n",
                        "Máximo: 11.3482\n",
                        "None\n"
                    ]
                }
            ],
            "source": [
                "import numpy as np\n",
                "\n",
                "# Generación de datos con distribuciones\n",
                "distribucion_normal = np.random.normal(size=100)\n",
                "distribucion_chi_square = np.random.chisquare(df=3, size=100)\n",
                "\n",
                "# Cálculo de Medidas de tendencia \n",
                "def medidas_estadisticas(datos):\n",
                "    #print(f\"\\nEstadísticas para {name}:\")\n",
                "    print(f\"Media: {np.mean(datos):.4f}\")\n",
                "    print(f\"Mediana: {np.median(datos):.4f}\")\n",
                "    print(f\"Desviación estándar: {np.std(datos):.4f}\")\n",
                "    print(f\"Varianza: {np.var(datos):.4f}\")\n",
                "    print(f\"Mínimo: {np.min(datos):.4f}\")\n",
                "    print(f\"Máximo: {np.max(datos):.4f}\")\n",
                "\n",
                "print(\"Distribucion Normal\")\n",
                "print(medidas_estadisticas(distribucion_normal))\n",
                "print(\"\\nDistribucion Chi-Cuadrado\")\n",
                "print(medidas_estadisticas(distribucion_chi_square))"
            ]
        },
        {
            "cell_type": "markdown",
            "id": "46c70c3d",
            "metadata": {},
            "source": [
                "### Exercise 2\n",
                "\n",
                "Write a Python program to calculate the standard deviation of the following data:\n",
                "\n",
                "```py\n",
                "data = [4, 2, 5, 8, 6]\n",
                "```"
            ]
        },
        {
            "cell_type": "code",
            "execution_count": 29,
            "id": "d590308e",
            "metadata": {},
            "outputs": [
                {
                    "name": "stdout",
                    "output_type": "stream",
                    "text": [
                        "Desviación estándar: 2.2361\n"
                    ]
                }
            ],
            "source": [
                "datos = [4, 2, 5, 8, 6]\n",
                "# Cálculo de la desviación estándar\n",
                "def desviacion_estándar(datos):\n",
                "    return np.std(datos, ddof=1) \n",
                "\n",
                "print(f\"Desviación estándar: {desviacion_estándar(datos):.4f}\")"
            ]
        }
    ],
    "metadata": {
        "kernelspec": {
            "display_name": ".venv",
            "language": "python",
            "name": "python3"
        },
        "language_info": {
            "codemirror_mode": {
                "name": "ipython",
                "version": 3
            },
            "file_extension": ".py",
            "mimetype": "text/x-python",
            "name": "python",
            "nbconvert_exporter": "python",
            "pygments_lexer": "ipython3",
            "version": "3.11.4"
        }
    },
    "nbformat": 4,
    "nbformat_minor": 5
}
