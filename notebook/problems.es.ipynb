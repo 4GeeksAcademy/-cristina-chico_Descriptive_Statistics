{
 "cells": [
  {
   "cell_type": "markdown",
   "id": "6805e3f1",
   "metadata": {},
   "source": [
    "# **Problemas de Estadística Descriptiva**\n",
    "\n",
    "## **Ejercicio 1 – ¿Qué tan largos son los títulos de las películas?**\n",
    "\n",
    "En este ejercicio vas a aplicar técnicas de estadística descriptiva sobre un conjunto de datos real: una base con 1000 películas populares del sitio IMDb.\n",
    "\n",
    "A partir del título de cada película, vas a:\n",
    "- Calcular la longitud del título (en caracteres).\n",
    "- Obtener métricas estadísticas clave: media, mediana, moda, rango, varianza, desviación estándar, asimetría y curtosis.\n",
    "- Identificar los títulos más largos y más cortos.\n",
    "- Visualizar la distribución de estas longitudes con un histograma y una curva de densidad.\n"
   ]
  },
  {
   "cell_type": "markdown",
   "id": "7c09ee38",
   "metadata": {},
   "source": [
    "# Imports & Adquirir datos"
   ]
  },
  {
   "cell_type": "code",
   "execution_count": 49,
   "id": "ca3d2c0a",
   "metadata": {},
   "outputs": [
    {
     "data": {
      "text/html": [
       "<div>\n",
       "<style scoped>\n",
       "    .dataframe tbody tr th:only-of-type {\n",
       "        vertical-align: middle;\n",
       "    }\n",
       "\n",
       "    .dataframe tbody tr th {\n",
       "        vertical-align: top;\n",
       "    }\n",
       "\n",
       "    .dataframe thead th {\n",
       "        text-align: right;\n",
       "    }\n",
       "</style>\n",
       "<table border=\"1\" class=\"dataframe\">\n",
       "  <thead>\n",
       "    <tr style=\"text-align: right;\">\n",
       "      <th></th>\n",
       "      <th>star_rating</th>\n",
       "      <th>title</th>\n",
       "      <th>content_rating</th>\n",
       "      <th>genre</th>\n",
       "      <th>duration</th>\n",
       "      <th>actors_list</th>\n",
       "    </tr>\n",
       "  </thead>\n",
       "  <tbody>\n",
       "    <tr>\n",
       "      <th>0</th>\n",
       "      <td>9.3</td>\n",
       "      <td>The Shawshank Redemption</td>\n",
       "      <td>R</td>\n",
       "      <td>Crime</td>\n",
       "      <td>142</td>\n",
       "      <td>[u'Tim Robbins', u'Morgan Freeman', u'Bob Gunt...</td>\n",
       "    </tr>\n",
       "    <tr>\n",
       "      <th>1</th>\n",
       "      <td>9.2</td>\n",
       "      <td>The Godfather</td>\n",
       "      <td>R</td>\n",
       "      <td>Crime</td>\n",
       "      <td>175</td>\n",
       "      <td>[u'Marlon Brando', u'Al Pacino', u'James Caan']</td>\n",
       "    </tr>\n",
       "    <tr>\n",
       "      <th>2</th>\n",
       "      <td>9.1</td>\n",
       "      <td>The Godfather: Part II</td>\n",
       "      <td>R</td>\n",
       "      <td>Crime</td>\n",
       "      <td>200</td>\n",
       "      <td>[u'Al Pacino', u'Robert De Niro', u'Robert Duv...</td>\n",
       "    </tr>\n",
       "    <tr>\n",
       "      <th>3</th>\n",
       "      <td>9.0</td>\n",
       "      <td>The Dark Knight</td>\n",
       "      <td>PG-13</td>\n",
       "      <td>Action</td>\n",
       "      <td>152</td>\n",
       "      <td>[u'Christian Bale', u'Heath Ledger', u'Aaron E...</td>\n",
       "    </tr>\n",
       "    <tr>\n",
       "      <th>4</th>\n",
       "      <td>8.9</td>\n",
       "      <td>Pulp Fiction</td>\n",
       "      <td>R</td>\n",
       "      <td>Crime</td>\n",
       "      <td>154</td>\n",
       "      <td>[u'John Travolta', u'Uma Thurman', u'Samuel L....</td>\n",
       "    </tr>\n",
       "  </tbody>\n",
       "</table>\n",
       "</div>"
      ],
      "text/plain": [
       "   star_rating                     title content_rating   genre  duration  \\\n",
       "0          9.3  The Shawshank Redemption              R   Crime       142   \n",
       "1          9.2             The Godfather              R   Crime       175   \n",
       "2          9.1    The Godfather: Part II              R   Crime       200   \n",
       "3          9.0           The Dark Knight          PG-13  Action       152   \n",
       "4          8.9              Pulp Fiction              R   Crime       154   \n",
       "\n",
       "                                         actors_list  \n",
       "0  [u'Tim Robbins', u'Morgan Freeman', u'Bob Gunt...  \n",
       "1    [u'Marlon Brando', u'Al Pacino', u'James Caan']  \n",
       "2  [u'Al Pacino', u'Robert De Niro', u'Robert Duv...  \n",
       "3  [u'Christian Bale', u'Heath Ledger', u'Aaron E...  \n",
       "4  [u'John Travolta', u'Uma Thurman', u'Samuel L....  "
      ]
     },
     "execution_count": 49,
     "metadata": {},
     "output_type": "execute_result"
    }
   ],
   "source": [
    "# Importar librerias\n",
    "import pandas as pd\n",
    "import numpy as np\n",
    "import matplotlib.pyplot as plt\n",
    "from scipy.stats import skew, kurtosis, mode\n",
    "import statistics as stats\n",
    "\n",
    "# Cargar dataset de IMDb\n",
    "url = \"../assets/imdb_1000.csv\"\n",
    "df = pd.read_csv(url)\n",
    "df.head()"
   ]
  },
  {
   "cell_type": "markdown",
   "id": "785b4556",
   "metadata": {},
   "source": [
    "# Crea una nueva columna llamada 'title_length' con la longitud (número de caracteres) de cada título"
   ]
  },
  {
   "cell_type": "code",
   "execution_count": 50,
   "id": "61d39304",
   "metadata": {},
   "outputs": [
    {
     "data": {
      "text/html": [
       "<div>\n",
       "<style scoped>\n",
       "    .dataframe tbody tr th:only-of-type {\n",
       "        vertical-align: middle;\n",
       "    }\n",
       "\n",
       "    .dataframe tbody tr th {\n",
       "        vertical-align: top;\n",
       "    }\n",
       "\n",
       "    .dataframe thead th {\n",
       "        text-align: right;\n",
       "    }\n",
       "</style>\n",
       "<table border=\"1\" class=\"dataframe\">\n",
       "  <thead>\n",
       "    <tr style=\"text-align: right;\">\n",
       "      <th></th>\n",
       "      <th>star_rating</th>\n",
       "      <th>title</th>\n",
       "      <th>content_rating</th>\n",
       "      <th>genre</th>\n",
       "      <th>duration</th>\n",
       "      <th>actors_list</th>\n",
       "      <th>title_length</th>\n",
       "    </tr>\n",
       "  </thead>\n",
       "  <tbody>\n",
       "    <tr>\n",
       "      <th>0</th>\n",
       "      <td>9.3</td>\n",
       "      <td>The Shawshank Redemption</td>\n",
       "      <td>R</td>\n",
       "      <td>Crime</td>\n",
       "      <td>142</td>\n",
       "      <td>[u'Tim Robbins', u'Morgan Freeman', u'Bob Gunt...</td>\n",
       "      <td>24</td>\n",
       "    </tr>\n",
       "    <tr>\n",
       "      <th>1</th>\n",
       "      <td>9.2</td>\n",
       "      <td>The Godfather</td>\n",
       "      <td>R</td>\n",
       "      <td>Crime</td>\n",
       "      <td>175</td>\n",
       "      <td>[u'Marlon Brando', u'Al Pacino', u'James Caan']</td>\n",
       "      <td>13</td>\n",
       "    </tr>\n",
       "    <tr>\n",
       "      <th>2</th>\n",
       "      <td>9.1</td>\n",
       "      <td>The Godfather: Part II</td>\n",
       "      <td>R</td>\n",
       "      <td>Crime</td>\n",
       "      <td>200</td>\n",
       "      <td>[u'Al Pacino', u'Robert De Niro', u'Robert Duv...</td>\n",
       "      <td>22</td>\n",
       "    </tr>\n",
       "    <tr>\n",
       "      <th>3</th>\n",
       "      <td>9.0</td>\n",
       "      <td>The Dark Knight</td>\n",
       "      <td>PG-13</td>\n",
       "      <td>Action</td>\n",
       "      <td>152</td>\n",
       "      <td>[u'Christian Bale', u'Heath Ledger', u'Aaron E...</td>\n",
       "      <td>15</td>\n",
       "    </tr>\n",
       "    <tr>\n",
       "      <th>4</th>\n",
       "      <td>8.9</td>\n",
       "      <td>Pulp Fiction</td>\n",
       "      <td>R</td>\n",
       "      <td>Crime</td>\n",
       "      <td>154</td>\n",
       "      <td>[u'John Travolta', u'Uma Thurman', u'Samuel L....</td>\n",
       "      <td>12</td>\n",
       "    </tr>\n",
       "  </tbody>\n",
       "</table>\n",
       "</div>"
      ],
      "text/plain": [
       "   star_rating                     title content_rating   genre  duration  \\\n",
       "0          9.3  The Shawshank Redemption              R   Crime       142   \n",
       "1          9.2             The Godfather              R   Crime       175   \n",
       "2          9.1    The Godfather: Part II              R   Crime       200   \n",
       "3          9.0           The Dark Knight          PG-13  Action       152   \n",
       "4          8.9              Pulp Fiction              R   Crime       154   \n",
       "\n",
       "                                         actors_list  title_length  \n",
       "0  [u'Tim Robbins', u'Morgan Freeman', u'Bob Gunt...            24  \n",
       "1    [u'Marlon Brando', u'Al Pacino', u'James Caan']            13  \n",
       "2  [u'Al Pacino', u'Robert De Niro', u'Robert Duv...            22  \n",
       "3  [u'Christian Bale', u'Heath Ledger', u'Aaron E...            15  \n",
       "4  [u'John Travolta', u'Uma Thurman', u'Samuel L....            12  "
      ]
     },
     "execution_count": 50,
     "metadata": {},
     "output_type": "execute_result"
    }
   ],
   "source": [
    "df['title_length'] = df['title'].str.len()\n",
    "df.head()"
   ]
  },
  {
   "cell_type": "markdown",
   "id": "daac5018",
   "metadata": {},
   "source": [
    "# Calcula media, mediana y moda de la columna 'title_length'"
   ]
  },
  {
   "cell_type": "code",
   "execution_count": 51,
   "id": "6e8cb228",
   "metadata": {},
   "outputs": [],
   "source": [
    "# Creo un diccionario para acumular los resultados de los cálculos estadísticos.\n",
    "measures = {}"
   ]
  },
  {
   "cell_type": "code",
   "execution_count": 52,
   "id": "cae9c2e7",
   "metadata": {},
   "outputs": [],
   "source": [
    "# Genero los cálculos a través de funciones:\n",
    "mean_title = df['title_length'].mean()\n",
    "median_title = df['title_length'].median()\n",
    "mode_title = stats.mode(df['title_length'])"
   ]
  },
  {
   "cell_type": "code",
   "execution_count": 53,
   "id": "f1f72c8d",
   "metadata": {},
   "outputs": [
    {
     "data": {
      "text/plain": [
       "{'mean': np.float64(15.481103166496425),\n",
       " 'median': np.float64(14.0),\n",
       " 'mode': 12}"
      ]
     },
     "execution_count": 53,
     "metadata": {},
     "output_type": "execute_result"
    }
   ],
   "source": [
    "# Creo las claves para almacenar los valores respectivos en el diccionario.\n",
    "measures['mean'] = mean_title\n",
    "measures['median'] = median_title\n",
    "measures['mode'] = mode_title\n",
    "\n",
    "measures"
   ]
  },
  {
   "cell_type": "markdown",
   "id": "acc799a0",
   "metadata": {},
   "source": [
    "# Calcula el rango, la varianza y la desviación estándar de 'title_length'"
   ]
  },
  {
   "cell_type": "code",
   "execution_count": 54,
   "id": "2d3ec9ac",
   "metadata": {},
   "outputs": [
    {
     "data": {
      "text/plain": [
       "star_rating       float64\n",
       "title              object\n",
       "content_rating     object\n",
       "genre              object\n",
       "duration            int64\n",
       "actors_list        object\n",
       "title_length        int64\n",
       "dtype: object"
      ]
     },
     "execution_count": 54,
     "metadata": {},
     "output_type": "execute_result"
    }
   ],
   "source": [
    "df.dtypes"
   ]
  },
  {
   "cell_type": "code",
   "execution_count": 55,
   "id": "69664a9b",
   "metadata": {},
   "outputs": [
    {
     "data": {
      "text/plain": [
       "{'mean': np.float64(15.481103166496425),\n",
       " 'median': np.float64(14.0),\n",
       " 'mode': 12,\n",
       " 'range': (np.int64(68), np.int64(1)),\n",
       " 'var': np.float64(72.1067488840288),\n",
       " 'std': np.float64(8.491569282766807)}"
      ]
     },
     "execution_count": 55,
     "metadata": {},
     "output_type": "execute_result"
    }
   ],
   "source": [
    "# Se repite al proceso anterior para los nuevos cálculos:\n",
    "title_range = df['title_length'].max(), df['title_length'].min()\n",
    "var_title = df['title_length'].var()\n",
    "std_title = df['title_length'].std()\n",
    "\n",
    "measures['range'] = title_range\n",
    "measures['var'] = var_title\n",
    "measures['std'] = std_title\n",
    "\n",
    "measures"
   ]
  },
  {
   "cell_type": "markdown",
   "id": "da9c0f66",
   "metadata": {},
   "source": [
    "# Calcula asimetría y curtosis de la columna 'title_length'"
   ]
  },
  {
   "cell_type": "code",
   "execution_count": 56,
   "id": "6b9a931c",
   "metadata": {},
   "outputs": [
    {
     "data": {
      "text/plain": [
       "'La asimetría es de 1.5252523464631278, y la curtosis de 3.8122887061291544'"
      ]
     },
     "execution_count": 56,
     "metadata": {},
     "output_type": "execute_result"
    }
   ],
   "source": [
    "skewness_title = df['title_length'].skew()\n",
    "kurt_title = df['title_length'].kurt()\n",
    "\n",
    "f\"La asimetría es de {skewness_title}, y la curtosis de {kurt_title}\""
   ]
  },
  {
   "cell_type": "code",
   "execution_count": 57,
   "id": "c0d09e68",
   "metadata": {},
   "outputs": [
    {
     "data": {
      "text/plain": [
       "' El título más corto es: M.'"
      ]
     },
     "execution_count": 57,
     "metadata": {},
     "output_type": "execute_result"
    }
   ],
   "source": [
    "# Imprime el título más corto según su longitud\n",
    "shorter_title = df.loc[df['title_length'].idxmin(), 'title']\n",
    "\n",
    "f' El título más corto es: {shorter_title}.'\n"
   ]
  },
  {
   "cell_type": "code",
   "execution_count": 58,
   "id": "7892bb10",
   "metadata": {},
   "outputs": [
    {
     "data": {
      "text/plain": [
       "'El título más largo es: Dr. Strangelove or: How I Learned to Stop Worrying and Love the Bomb.'"
      ]
     },
     "execution_count": 58,
     "metadata": {},
     "output_type": "execute_result"
    }
   ],
   "source": [
    "# Imprime el título más largo según su longitud\n",
    "longer_title = df.loc[df['title_length'].idxmax(),'title']\n",
    "\n",
    "f'El título más largo es: {longer_title}.'"
   ]
  },
  {
   "cell_type": "markdown",
   "id": "12ab7795",
   "metadata": {},
   "source": [
    "# Grafica tus resultados"
   ]
  },
  {
   "cell_type": "markdown",
   "id": "94d42cbf",
   "metadata": {},
   "source": [
    "https://numpy.org/doc/stable/reference/generated/numpy.histogram_bin_edges.html#numpy.histogram_bin_edges\n",
    "\n",
    "guardar link de hist"
   ]
  },
  {
   "cell_type": "markdown",
   "id": "202f2076",
   "metadata": {},
   "source": [
    "* **Boxplot**"
   ]
  },
  {
   "cell_type": "code",
   "execution_count": 59,
   "id": "fb464a42",
   "metadata": {},
   "outputs": [
    {
     "data": {
      "image/png": "[encoded data removed]",
      "text/plain": [
       "<Figure size 1000x700 with 2 Axes>"
      ]
     },
     "metadata": {},
     "output_type": "display_data"
    }
   ],
   "source": [
    "fig, ax = plt.subplots(2,1, figsize=(10,7))\n",
    "\n",
    "# Boxplot:\n",
    "ax[0].boxplot(df['title_length'], orientation='horizontal')\n",
    "ax[0].set_title(\"Largo del título\")\n",
    "ax[0].grid(True)\n",
    "\n",
    "ax[1].hist(df['title_length'], bins='sqrt', color='g') # bins='sqrt' divide el histograma en \n",
    "ax[1].set_title(\"Histograma de títulos\")\n",
    "ax[1].set_ylabel(\"Cantidad de carácteres\")\n",
    "ax[1].set_xlabel(\"Frecuencia de títulos\")\n",
    "ax[1].grid(True)"
   ]
  },
  {
   "cell_type": "markdown",
   "id": "eaf3ceb7",
   "metadata": {},
   "source": [
    "---\n",
    "\n",
    "# **Ejercicio 2 – Cálculo manual de desviación estándar**\n",
    "\n",
    "En este ejercicio vas a calcular manualmente la desviación estándar, seleccionando cinco títulos reales del dataset de películas que cargaste antes.\n"
   ]
  },
  {
   "cell_type": "markdown",
   "id": "28c1c297",
   "metadata": {},
   "source": [
    "# Crea una lista con 5 valores reales de df['title_length']\n",
    "* Por ejemplo: [10, 13, 14, 18, 22]"
   ]
  },
  {
   "cell_type": "code",
   "execution_count": 60,
   "id": "eefe9623",
   "metadata": {},
   "outputs": [
    {
     "data": {
      "text/plain": [
       "0      24\n",
       "1      13\n",
       "2      22\n",
       "3      15\n",
       "4      12\n",
       "       ..\n",
       "974     7\n",
       "975    27\n",
       "976    47\n",
       "977    11\n",
       "978    11\n",
       "Name: title_length, Length: 979, dtype: int64"
      ]
     },
     "execution_count": 60,
     "metadata": {},
     "output_type": "execute_result"
    }
   ],
   "source": [
    "df['title_length']"
   ]
  },
  {
   "cell_type": "code",
   "execution_count": 61,
   "id": "3005c0f9",
   "metadata": {},
   "outputs": [
    {
     "data": {
      "text/plain": [
       "[np.int64(15), np.int64(8), np.int64(13), np.int64(16), np.int64(11)]"
      ]
     },
     "execution_count": 61,
     "metadata": {},
     "output_type": "execute_result"
    }
   ],
   "source": [
    "list_std = [df.loc[3,'title_length'],df.loc[33,'title_length'],df.loc[333,'title_length'],df.loc[666,'title_length'], df.loc[978,'title_length']]\n",
    "list_std"
   ]
  },
  {
   "cell_type": "code",
   "execution_count": 62,
   "id": "d96b771f",
   "metadata": {},
   "outputs": [
    {
     "data": {
      "text/plain": [
       "np.float64(12.6)"
      ]
     },
     "execution_count": 62,
     "metadata": {},
     "output_type": "execute_result"
    }
   ],
   "source": [
    "# Calcula la media de los 5 valores\n",
    "total_sum  = sum(list_std)\n",
    "mean_list = total_sum / len(list_std)\n",
    "mean_list"
   ]
  },
  {
   "cell_type": "code",
   "execution_count": 63,
   "id": "346d0dc5",
   "metadata": {},
   "outputs": [
    {
     "data": {
      "text/plain": [
       "[np.float64(2.4000000000000004),\n",
       " np.float64(-4.6),\n",
       " np.float64(0.40000000000000036),\n",
       " np.float64(3.4000000000000004),\n",
       " np.float64(-1.5999999999999996)]"
      ]
     },
     "execution_count": 63,
     "metadata": {},
     "output_type": "execute_result"
    }
   ],
   "source": [
    "# Calcula las diferencias al cuadrado con respecto a la media\n",
    "diferencias_data = [x - mean_list for x in list_std]\n",
    "diferencias_data"
   ]
  },
  {
   "cell_type": "code",
   "execution_count": 64,
   "id": "28f3741a",
   "metadata": {},
   "outputs": [
    {
     "data": {
      "text/plain": [
       "[np.float64(5.760000000000002),\n",
       " np.float64(21.159999999999997),\n",
       " np.float64(0.16000000000000028),\n",
       " np.float64(11.560000000000002),\n",
       " np.float64(2.5599999999999987)]"
      ]
     },
     "execution_count": 64,
     "metadata": {},
     "output_type": "execute_result"
    }
   ],
   "source": [
    "diferencias_cuadrado = [x **2 for x in diferencias_data]\n",
    "diferencias_cuadrado"
   ]
  },
  {
   "cell_type": "code",
   "execution_count": 65,
   "id": "f56517ff",
   "metadata": {},
   "outputs": [
    {
     "data": {
      "text/plain": [
       "np.float64(8.24)"
      ]
     },
     "execution_count": 65,
     "metadata": {},
     "output_type": "execute_result"
    }
   ],
   "source": [
    "# Varianza (promedio de las diferencias al cuadrado) \n",
    "var = sum(diferencias_cuadrado) / len(list_std)\n",
    "var\n"
   ]
  },
  {
   "cell_type": "code",
   "execution_count": 66,
   "id": "95b06d8e",
   "metadata": {},
   "outputs": [
    {
     "data": {
      "text/plain": [
       "np.float64(2.870540018881465)"
      ]
     },
     "execution_count": 66,
     "metadata": {},
     "output_type": "execute_result"
    }
   ],
   "source": [
    "# Raíz cuadrada para obtener la desviación estándar\n",
    "desviacion = var **(1/2)\n",
    "desviacion\n"
   ]
  }
 ],
 "metadata": {
  "kernelspec": {
   "display_name": "Python 3",
   "language": "python",
   "name": "python3"
  },
  "language_info": {
   "codemirror_mode": {
    "name": "ipython",
    "version": 3
   },
   "file_extension": ".py",
   "mimetype": "text/x-python",
   "name": "python",
   "nbconvert_exporter": "python",
   "pygments_lexer": "ipython3",
   "version": "3.11.4"
  }
 },
 "nbformat": 4,
 "nbformat_minor": 5
}
